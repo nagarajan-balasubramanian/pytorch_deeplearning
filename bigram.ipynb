{
 "cells": [
  {
   "cell_type": "code",
   "execution_count": 40,
   "metadata": {},
   "outputs": [],
   "source": [
    "with open('the_wizard_of_oz.txt','r',encoding='utf-8') as F:\n",
    "    text=F.read()\n",
    "\n",
    "chars=sorted(set(text))"
   ]
  },
  {
   "cell_type": "code",
   "execution_count": 41,
   "metadata": {},
   "outputs": [],
   "source": [
    "string_to_int={ch: i for i,ch in enumerate(chars)}\n",
    "int_to_string={i:ch for i,ch in enumerate(chars)}\n",
    "\n",
    "encode=lambda s: [string_to_int[ch] for ch in s ]\n",
    "decode=lambda l: ''.join([int_to_string[i] for i in l])"
   ]
  },
  {
   "cell_type": "code",
   "execution_count": 42,
   "metadata": {},
   "outputs": [
    {
     "name": "stdout",
     "output_type": "stream",
     "text": [
      "1.12.1\n",
      "207796\n",
      "tensor([72, 34, 48,  ..., 54,  2, 71])\n",
      "166236\n",
      "166236\n",
      "tensor([[49, 58,  1, 50, 55],\n",
      "        [ 1, 60, 48, 45,  1],\n",
      "        [60, 45, 58,  6,  1],\n",
      "        [60, 45, 58,  1, 56]])\n"
     ]
    }
   ],
   "source": [
    "import torch\n",
    "print(torch.__version__)\n",
    "data = torch.tensor(encode(text),dtype=int)\n",
    "print(len(encode(text)))\n",
    "print(data)\n",
    "blocksize=5\n",
    "batchsize =4\n",
    "n=int(0.8*len(data))\n",
    "print(n)\n",
    "train_data = data[:n]\n",
    "validation_data = data[n:]\n",
    "print(len(train_data))\n",
    "ix=torch.randint(len(data)-blocksize,(batchsize,))\n",
    "x=torch.stack([train_data[i:i+blocksize] for i in ix])\n",
    "y=torch.stack([train_data[i+1:i+blocksize+1] for i in ix])\n",
    "print(x)"
   ]
  },
  {
   "cell_type": "code",
   "execution_count": 43,
   "metadata": {},
   "outputs": [
    {
     "name": "stdout",
     "output_type": "stream",
     "text": [
      "tensor([[49, 58,  1, 50, 55],\n",
      "        [ 1, 60, 48, 45,  1],\n",
      "        [60, 45, 58,  6,  1],\n",
      "        [60, 45, 58,  1, 56]])\n",
      "tensor([[58,  1, 50, 55, 61],\n",
      "        [60, 48, 45,  1, 56],\n",
      "        [45, 58,  6,  1, 52],\n",
      "        [45, 58,  1, 56, 49]])\n"
     ]
    }
   ],
   "source": [
    "print(x)\n",
    "print(y)"
   ]
  },
  {
   "cell_type": "code",
   "execution_count": 44,
   "metadata": {},
   "outputs": [
    {
     "name": "stdout",
     "output_type": "stream",
     "text": [
      "cpu\n"
     ]
    }
   ],
   "source": [
    "x=train_data[:blocksize]\n",
    "#print(x)\n",
    "y=train_data[1:blocksize+1]\n",
    "#print(y)\n",
    "\n",
    "for i in range(blocksize):\n",
    "    context= x[:i+1]\n",
    "    target = y[i]\n",
    "    #print('when input is context' ,context , 'target is', target)\n",
    "\n",
    "\n",
    "device = 'cuda' if torch.cuda.is_available() else 'cpu'\n",
    "print(device)\n"
   ]
  },
  {
   "cell_type": "code",
   "execution_count": 45,
   "metadata": {},
   "outputs": [
    {
     "name": "stdout",
     "output_type": "stream",
     "text": [
      "elpased time for torch is : 3.11053920\n",
      "elpased time for numpy is : 2.91666937\n"
     ]
    }
   ],
   "source": [
    "import time\n",
    "start_time = time.time()\n",
    "rand1=torch.rand(100,100,100,100).to(device=device)\n",
    "rand2=torch.rand(100,100,100,100).to(device)\n",
    "rand = rand1 @ rand2\n",
    "end_time = time.time()\n",
    "\n",
    "elapsed_time_torch = end_time -start_time\n",
    "print(f'elpased time for torch is : {elapsed_time_torch:.8f}')\n",
    "\n",
    "import numpy as np\n",
    "start_time = time.time()\n",
    "rand1=torch.rand(100,100,100,100).to(device=device)\n",
    "rand2=torch.rand(100,100,100,100).to(device)\n",
    "rand = np.multiply(rand1,rand2)\n",
    "end_time = time.time()\n",
    "\n",
    "elapsed_time_np = end_time -start_time\n",
    "print(f'elpased time for numpy is : {elapsed_time_np:.8f}')"
   ]
  },
  {
   "cell_type": "code",
   "execution_count": 46,
   "metadata": {},
   "outputs": [
    {
     "name": "stdout",
     "output_type": "stream",
     "text": [
      "tensor([1, 1, 1, 1, 1, 1, 1, 1, 1, 1])\n"
     ]
    },
    {
     "data": {
      "text/plain": [
       "tensor([[1., 0., 0., 0., 0.],\n",
       "        [1., 1., 0., 0., 0.],\n",
       "        [1., 1., 1., 0., 0.],\n",
       "        [1., 1., 1., 1., 0.],\n",
       "        [1., 1., 1., 1., 1.]])"
      ]
     },
     "execution_count": 46,
     "metadata": {},
     "output_type": "execute_result"
    }
   ],
   "source": [
    "probability=torch.tensor([0.1,0.9])\n",
    "print(torch.multinomial(probability,10,True))\n",
    "torch.cat((probability,torch.tensor([1])),dim=0)\n",
    "out=torch.zeros(5,5).masked_fill(torch.tril(torch.ones(5,5))==0,float('-inf'))\n",
    "torch.exp(out)\n"
   ]
  },
  {
   "cell_type": "code",
   "execution_count": 47,
   "metadata": {},
   "outputs": [
    {
     "name": "stdout",
     "output_type": "stream",
     "text": [
      "3\n"
     ]
    },
    {
     "data": {
      "text/plain": [
       "tensor([10, 10, 10, 10, 10, 10, 10, 10, 10, 10, 10, 10, 10, 10, 10, 10, 10, 10,\n",
       "        10, 10, 10, 10, 10, 10, 10, 10, 10, 10, 10, 10, 10, 10, 10, 10, 10, 10,\n",
       "        10, 10, 10, 10, 10, 10, 10, 10, 10, 10, 10, 10, 10, 10, 10, 10, 10, 10,\n",
       "        10, 10, 10, 10, 10, 10, 10, 10, 10, 10, 10, 10, 10, 10, 10, 10, 10, 10,\n",
       "        10, 10, 10, 10, 10, 10, 10, 10, 10, 10, 10, 10, 10, 10, 10, 10, 10, 10,\n",
       "        10, 10, 10, 10, 10, 10, 10, 10, 10, 10, 10, 10, 10, 10, 10, 10, 10, 10,\n",
       "        10, 10, 10, 10, 10, 10, 10, 10, 10, 10, 10, 10, 10, 10, 10, 10, 10, 10,\n",
       "        10, 10, 10, 10, 10, 10, 10, 10, 10, 10, 10, 10, 10, 10, 10, 10, 10, 10,\n",
       "        10, 10, 10, 10, 10, 10, 10, 10, 10, 10, 10, 10, 10, 10, 10, 10, 10, 10,\n",
       "        10, 10, 10, 10, 10, 10, 10, 10, 10, 10, 10, 10, 10, 10, 10, 10, 10, 10,\n",
       "        10, 10, 10, 10, 10, 10, 10, 10, 10, 10, 10, 10, 10, 10, 10, 10, 10, 10,\n",
       "        10, 10, 10, 10, 10, 10, 10, 10, 10, 10, 10, 10, 10, 10, 10, 10, 10, 10,\n",
       "        10, 10, 10, 10, 10, 10, 10, 10], dtype=torch.int16)"
      ]
     },
     "execution_count": 47,
     "metadata": {},
     "output_type": "execute_result"
    }
   ],
   "source": [
    "a=torch.tensor([[1,2,3],[3,4,5],[5,6,7],[7,8,9]])\n",
    "b=torch.tensor([[[7,1,5],[8,2,10],[7,1,20],[8,2,10]],[[7,1,10],[8,2,15],[7,1,14],[8,2,15]]])\n",
    "c=torch.tensor([[1,2],[3,4]])\n",
    "d=torch.tensor([[[1,2],[3,4]],[[1,2],[3,4]],[[1,2],[3,4]],[[1,2],[3,4]]])\n",
    "#print(a[0][0].item())\n",
    "# print(a.ndim)\n",
    "# print(a.shape)\n",
    "# print(a)\n",
    "# print(b.ndim)\n",
    "# print(b.shape)\n",
    "# print(b)\n",
    "# print(c.ndim)\n",
    "# print(c.shape)\n",
    "# print(c)\n",
    "# print(d.ndim)\n",
    "# print(d.shape)\n",
    "# print(d[0])\n",
    "e=torch.rand(size=(3,224,224))\n",
    "print(e.ndim)\n",
    "torch.full_like(e,fill_value=10,dtype=torch.int16)[0][0]"
   ]
  },
  {
   "cell_type": "code",
   "execution_count": 48,
   "metadata": {},
   "outputs": [
    {
     "name": "stdout",
     "output_type": "stream",
     "text": [
      "tensor([[5, 7],\n",
      "        [1, 1],\n",
      "        [2, 2]])\n",
      "tensor([[10,  5,  7],\n",
      "        [11,  3,  2]])\n",
      "torch.Size([3, 2]) torch.Size([2, 3])\n",
      "tensor(1)\n",
      "tensor(2)\n",
      "5\n"
     ]
    }
   ],
   "source": [
    "a=torch.randint(1,10,size=(3,2))\n",
    "b=torch.randint(2,15,size=(2,3))\n",
    "print(a)\n",
    "print(b)\n",
    "#print(a.matmul(b))\n",
    "#print(a*b)\n",
    "print(a.shape,b.shape)\n",
    "print(a.min())\n",
    "print(a.argmin())\n",
    "print(a[0][0].item())"
   ]
  },
  {
   "cell_type": "code",
   "execution_count": 49,
   "metadata": {},
   "outputs": [
    {
     "name": "stdout",
     "output_type": "stream",
     "text": [
      "tensor([[[0, 1, 2],\n",
      "         [3, 4, 5],\n",
      "         [6, 7, 8]]])\n",
      "torch.Size([1, 3, 3, 3])\n",
      "torch.Size([3, 1, 3, 3])\n"
     ]
    },
    {
     "data": {
      "text/plain": [
       "tensor([[3, 4, 5]])"
      ]
     },
     "execution_count": 49,
     "metadata": {},
     "output_type": "execute_result"
    }
   ],
   "source": [
    "a=torch.arange(0,9)\n",
    "#print(a)\n",
    "reshaped=a.reshape((1,3,3))\n",
    "print(reshaped)\n",
    "stacked=torch.stack([reshaped,reshaped,reshaped],dim=1)\n",
    "print(stacked.shape)\n",
    "stacked_0=torch.stack([reshaped,reshaped,reshaped],dim=0)\n",
    "print(stacked_0.shape)\n",
    "reshaped[:,1,:]"
   ]
  },
  {
   "cell_type": "code",
   "execution_count": 50,
   "metadata": {},
   "outputs": [
    {
     "name": "stdout",
     "output_type": "stream",
     "text": [
      "tensor([[1, 2],\n",
      "        [2, 3],\n",
      "        [3, 4],\n",
      "        [4, 4]])\n",
      "torch.Size([4, 2])\n",
      "2\n",
      "tensor([[1, 2],\n",
      "        [2, 3],\n",
      "        [3, 4],\n",
      "        [4, 4]])\n",
      "torch.Size([4, 2])\n",
      "2\n",
      "tensor([[[1],\n",
      "         [2]],\n",
      "\n",
      "        [[2],\n",
      "         [3]],\n",
      "\n",
      "        [[3],\n",
      "         [4]],\n",
      "\n",
      "        [[4],\n",
      "         [4]]])\n",
      "torch.Size([4, 2, 1])\n",
      "3\n"
     ]
    }
   ],
   "source": [
    "a=torch.tensor([[1,2],[2,3],[3,4],[4,4]])\n",
    "print(a)\n",
    "print(a.shape)\n",
    "print(a.ndim)\n",
    "print(a.squeeze())\n",
    "print(a.squeeze().size())\n",
    "print(a.squeeze().ndim)\n",
    "print(a.squeeze().unsqueeze(dim=-1))\n",
    "print(a.squeeze().unsqueeze(dim=-1).size())\n",
    "print(a.squeeze().unsqueeze(dim=-1).ndimension())"
   ]
  },
  {
   "cell_type": "markdown",
   "metadata": {},
   "source": [
    "##### Pytorch and Numpy Exercise #####\n",
    "\n",
    "          Exercise to check if numpy and pytorch are exchangeable"
   ]
  },
  {
   "cell_type": "code",
   "execution_count": 1,
   "metadata": {},
   "outputs": [
    {
     "ename": "NameError",
     "evalue": "name 'torch' is not defined",
     "output_type": "error",
     "traceback": [
      "\u001b[1;31m---------------------------------------------------------------------------\u001b[0m",
      "\u001b[1;31mNameError\u001b[0m                                 Traceback (most recent call last)",
      "Cell \u001b[1;32mIn[1], line 3\u001b[0m\n\u001b[0;32m      1\u001b[0m \u001b[38;5;28;01mimport\u001b[39;00m \u001b[38;5;21;01mnumpy\u001b[39;00m\n\u001b[0;32m      2\u001b[0m a\u001b[38;5;241m=\u001b[39mnumpy\u001b[38;5;241m.\u001b[39marange(\u001b[38;5;241m1.\u001b[39m,\u001b[38;5;241m9.\u001b[39m)\n\u001b[1;32m----> 3\u001b[0m b\u001b[38;5;241m=\u001b[39m\u001b[43mtorch\u001b[49m\u001b[38;5;241m.\u001b[39marange(\u001b[38;5;241m1.\u001b[39m,\u001b[38;5;241m9.\u001b[39m)\n\u001b[0;32m      4\u001b[0m a\u001b[38;5;241m.\u001b[39mtranspose(\u001b[38;5;241m0\u001b[39m)\n",
      "\u001b[1;31mNameError\u001b[0m: name 'torch' is not defined"
     ]
    }
   ],
   "source": [
    "import numpy\n",
    "a=numpy.arange(1.,9.)\n",
    "b=torch.arange(1.,9.)\n",
    "a.transpose(0)\n"
   ]
  },
  {
   "cell_type": "code",
   "execution_count": 9,
   "metadata": {},
   "outputs": [
    {
     "name": "stdout",
     "output_type": "stream",
     "text": [
      "1.12.1\n"
     ]
    }
   ],
   "source": [
    "import torch\n",
    "print(torch.__version__)\n",
    "device='cuda' if torch.cuda.is_available() else 'cpu'\n",
    "#a=torch.arange(1.,10., device='cuda')"
   ]
  }
 ],
 "metadata": {
  "kernelspec": {
   "display_name": "Python 3",
   "language": "python",
   "name": "python3"
  },
  "language_info": {
   "codemirror_mode": {
    "name": "ipython",
    "version": 3
   },
   "file_extension": ".py",
   "mimetype": "text/x-python",
   "name": "python",
   "nbconvert_exporter": "python",
   "pygments_lexer": "ipython3",
   "version": "3.10.13"
  }
 },
 "nbformat": 4,
 "nbformat_minor": 2
}
